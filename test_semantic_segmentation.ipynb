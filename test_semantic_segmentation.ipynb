{
 "cells": [
  {
   "cell_type": "code",
   "execution_count": 1,
   "metadata": {
    "collapsed": true
   },
   "outputs": [],
   "source": [
    "import re\n",
    "import random\n",
    "import numpy as np\n",
    "import os.path\n",
    "import scipy.misc\n",
    "import shutil\n",
    "import zipfile\n",
    "import time\n",
    "import tensorflow as tf\n",
    "from glob import glob\n",
    "from urllib.request import urlretrieve\n",
    "from tqdm import tqdm\n",
    "\n",
    "import helper\n",
    "import project_tests as tests"
   ]
  },
  {
   "cell_type": "code",
   "execution_count": null,
   "metadata": {
    "collapsed": false
   },
   "outputs": [],
   "source": [
    "tf.__version__"
   ]
  },
  {
   "cell_type": "code",
   "execution_count": null,
   "metadata": {
    "collapsed": true
   },
   "outputs": [],
   "source": [
    "tf.saved_model.loader.load"
   ]
  },
  {
   "cell_type": "code",
   "execution_count": 2,
   "metadata": {
    "collapsed": false
   },
   "outputs": [],
   "source": [
    "def load_vgg(sess, vgg_path):\n",
    "    \n",
    "    \"\"\"\n",
    "    Load Pretrained VGG Model into TensorFlow.\n",
    "    :param sess: TensorFlow Session\n",
    "    :param vgg_path: Path to vgg folder, containing \"variables/\" and \"saved_model.pb\"\n",
    "    :return: Tuple of Tensors from VGG model (image_input, keep_prob, layer3_out, layer4_out, layer7_out)\n",
    "    \"\"\"\n",
    "    # TODO: Implement function\n",
    "    \n",
    "    #   Use tf.saved_model.loader.load to load the model and weights\n",
    "    vgg_tag = 'vgg16'\n",
    "    vgg_input_tensor_name = 'image_input:0'\n",
    "    vgg_keep_prob_tensor_name = 'keep_prob:0'\n",
    "    vgg_layer3_out_tensor_name = 'layer3_out:0'\n",
    "    vgg_layer4_out_tensor_name = 'layer4_out:0'\n",
    "    vgg_layer7_out_tensor_name = 'layer7_out:0'\n",
    "    \n",
    "    buff = tf.saved_model.loader.load(sess, [vgg_tag], vgg_path)\n",
    "    \n",
    "    image_input = tf.get_default_graph().get_tensor_by_name(vgg_input_tensor_name)\n",
    "    print ('=== image_input ', image_input.shape)\n",
    "    print ('=== image_input ', image_input.get_shape)\n",
    "    \n",
    "    keep_prob = tf.get_default_graph().get_tensor_by_name(vgg_keep_prob_tensor_name)\n",
    "    print ('=== keep_prob ', keep_prob.get_shape)\n",
    "    \n",
    "    layer3_out = tf.get_default_graph().get_tensor_by_name(vgg_layer3_out_tensor_name)\n",
    "    print ('=== layer3_out ', layer3_out.get_shape)\n",
    "    \n",
    "    layer4_out = tf.get_default_graph().get_tensor_by_name(vgg_layer4_out_tensor_name)\n",
    "    print ('=== layer4_out ', layer4_out.get_shape)\n",
    "    \n",
    "    layer7_out = tf.get_default_graph().get_tensor_by_name(vgg_layer7_out_tensor_name)\n",
    "    print ('=== layer7_out ', layer7_out.get_shape)\n",
    "    \n",
    "    \n",
    "    \n",
    "    \n",
    "    return image_input, keep_prob, layer3_out, layer4_out, layer7_out\n"
   ]
  },
  {
   "cell_type": "code",
   "execution_count": null,
   "metadata": {
    "collapsed": true
   },
   "outputs": [],
   "source": []
  },
  {
   "cell_type": "code",
   "execution_count": 3,
   "metadata": {
    "collapsed": false
   },
   "outputs": [
    {
     "name": "stdout",
     "output_type": "stream",
     "text": [
      "Layers layer7  <bound method Tensor.get_shape of <tf.Tensor 'conv2d/BiasAdd:0' shape=(?, ?, ?, 2) dtype=float32>>\n",
      "Layers layer4  <bound method Tensor.get_shape of <tf.Tensor 'conv2d_2/BiasAdd:0' shape=(?, ?, ?, 2) dtype=float32>>\n",
      "Layers layer3  <bound method Tensor.get_shape of <tf.Tensor 'conv2d_3/BiasAdd:0' shape=(?, ?, ?, 2) dtype=float32>>\n",
      "Layers upsample7  <bound method Tensor.get_shape of <tf.Tensor 'conv2d_transpose/BiasAdd:0' shape=(?, ?, ?, 2) dtype=float32>>\n",
      "Layers comb_layer1  <bound method Tensor.get_shape of <tf.Tensor 'Add:0' shape=(?, ?, ?, 2) dtype=float32>>\n",
      "Layers upsample4_7  <bound method Tensor.get_shape of <tf.Tensor 'conv2d_transpose_2/BiasAdd:0' shape=(?, ?, ?, 2) dtype=float32>>\n",
      "Layers comb_layer2  <bound method Tensor.get_shape of <tf.Tensor 'Add_1:0' shape=(?, ?, ?, 2) dtype=float32>>\n",
      "Layers upsample3_4_7  <bound method Tensor.get_shape of <tf.Tensor 'conv2d_transpose_3/BiasAdd:0' shape=(?, ?, ?, 2) dtype=float32>>\n",
      "Tests Passed\n"
     ]
    }
   ],
   "source": [
    "def layers(vgg_layer3_out, vgg_layer4_out, vgg_layer7_out, num_classes):\n",
    "    \"\"\"\n",
    "    Create the layers for a fully convolutional network.  Build skip-layers using the vgg layers.\n",
    "    :param vgg_layer7_out: TF Tensor for VGG Layer 3 output\n",
    "    :param vgg_layer4_out: TF Tensor for VGG Layer 4 output\n",
    "    :param vgg_layer3_out: TF Tensor for VGG Layer 7 output\n",
    "    :param num_classes: Number of classes to classify\n",
    "    :return: The Tensor for the last layer of output\n",
    "    \"\"\"\n",
    "    # TODO: Implement function\n",
    "    \n",
    "    # 1x1 with 7\n",
    "    layer7 = tf.layers.conv2d(vgg_layer7_out, num_classes, 1, padding='SAME', \n",
    "                              kernel_initializer=tf.truncated_normal_initializer(stddev = 0.01))\n",
    "    #print ('Layers layer7 ' , layer7.shape)\n",
    "    print ('Layers layer7 ' , layer7.get_shape)\n",
    "    \n",
    "    # 1x1 with 4\n",
    "    layer4 = tf.layers.conv2d(vgg_layer4_out, num_classes, 1, padding='SAME',\n",
    "                             kernel_initializer=tf.truncated_normal_initializer(stddev = 0.01))\n",
    "    \n",
    "    #print ('Layers layer4 ' , layer4.shape) \n",
    "    print ('Layers layer4 ' , layer4.get_shape)\n",
    "    \n",
    "    # 1x1 with 3\n",
    "    layer3 = tf.layers.conv2d(vgg_layer3_out, num_classes, 1, padding='SAME',\n",
    "                             kernel_initializer=tf.truncated_normal_initializer(stddev = 0.01))\n",
    "    \n",
    "    #print ('Layers layer3 ' , layer3.shape) \n",
    "    print ('Layers layer3 ' , layer3.get_shape)\n",
    "    \n",
    "    # Upsample 7 \n",
    "    upsample7 = tf.layers.conv2d_transpose(layer7, num_classes, 4, 2, 'SAME',\n",
    "                                          kernel_initializer=tf.truncated_normal_initializer(stddev = 0.01))\n",
    "    \n",
    "    #print ('Layers upsample7 ' , upsample7.shape) \n",
    "    print ('Layers upsample7 ' , upsample7.get_shape)\n",
    "    \n",
    "    # Skip-connection with 4 and upsample7\n",
    "    comb_layer1 = tf.add(layer4, upsample7)\n",
    "    #print ('Layers comb_layer1 ' , comb_layer1.shape) \n",
    "    print ('Layers comb_layer1 ' , comb_layer1.get_shape)\n",
    "    \n",
    "    # Upsample combined layer 4+7\n",
    "    upsample4_7 = tf.layers.conv2d_transpose(comb_layer1, num_classes, 4, 2, 'SAME',\n",
    "                                            kernel_initializer=tf.truncated_normal_initializer(stddev = 0.01))\n",
    "    \n",
    "    #print ('Layers upsample4_7 ' , upsample4_7.shape)\n",
    "    print ('Layers upsample4_7 ' , upsample4_7.get_shape)\n",
    "    \n",
    "    # Skip-connection with 3 and upsample4_7\n",
    "    comb_layer2 = tf.add(layer3, upsample4_7)\n",
    "    #print ('Layers comb_layer2 ' , comb_layer2.shape)\n",
    "    print ('Layers comb_layer2 ' , comb_layer2.get_shape)\n",
    "    \n",
    "    # Upsample to original image\n",
    "    upsample3_4_7 = tf.layers.conv2d_transpose(comb_layer2, num_classes, 16, 8, 'SAME',\n",
    "                                              kernel_initializer=tf.truncated_normal_initializer(stddev = 0.01))\n",
    "    \n",
    "    #print ('Layers upsample3_4_7 ' , upsample3_4_7.shape) \n",
    "    print ('Layers upsample3_4_7 ' , upsample3_4_7.get_shape)\n",
    "        \n",
    "    return upsample3_4_7\n",
    "\n",
    "tests.test_layers(layers)"
   ]
  },
  {
   "cell_type": "code",
   "execution_count": null,
   "metadata": {
    "collapsed": true
   },
   "outputs": [],
   "source": []
  },
  {
   "cell_type": "code",
   "execution_count": 4,
   "metadata": {
    "collapsed": false
   },
   "outputs": [
    {
     "name": "stdout",
     "output_type": "stream",
     "text": [
      "Layers reshaped_logits  <bound method Tensor.get_shape of <tf.Tensor 'Reshape:0' shape=(24, 2) dtype=float32>>\n",
      "Layers correct_label   <bound method Tensor.get_shape of <tf.Tensor 'Placeholder:0' shape=(?, ?, ?, 2) dtype=float32>>\n",
      "Layers reshaped_labels  <bound method Tensor.get_shape of <tf.Tensor 'Reshape_1:0' shape=(?, 2) dtype=float32>>\n",
      "Tests Passed\n"
     ]
    }
   ],
   "source": [
    "def optimize(nn_last_layer, correct_label, learning_rate, num_classes):\n",
    "    \"\"\"\n",
    "    Build the TensorFLow loss and optimizer operations.\n",
    "    :param nn_last_layer: TF Tensor of the last layer in the neural network\n",
    "    :param correct_label: TF Placeholder for the correct label image\n",
    "    :param learning_rate: TF Placeholder for the learning rate\n",
    "    :param num_classes: Number of classes to classify\n",
    "    :return: Tuple of (logits, train_op, cross_entropy_loss)\n",
    "    \"\"\"\n",
    "    # TODO: Implement function\n",
    "    reshaped_logits = tf.reshape(nn_last_layer, (-1, num_classes))\n",
    "    print ('Layers reshaped_logits ' , reshaped_logits.get_shape)\n",
    "    \n",
    "    reshaped_labels = tf.reshape(correct_label, (-1, num_classes))\n",
    "    print ('Layers correct_label  ' , correct_label.get_shape)\n",
    "    print ('Layers reshaped_labels ' , reshaped_labels.get_shape)\n",
    "    \n",
    "    cross_entropy_loss = tf.reduce_mean(tf.nn.softmax_cross_entropy_with_logits(logits = reshaped_logits, \n",
    "                                                                                labels = reshaped_labels))\n",
    "    \n",
    "    train_op = tf.train.AdamOptimizer(learning_rate).minimize(cross_entropy_loss)\n",
    "    \n",
    "    return reshaped_logits, train_op, cross_entropy_loss\n",
    "    \n",
    "tests.test_optimize(optimize)"
   ]
  },
  {
   "cell_type": "code",
   "execution_count": null,
   "metadata": {
    "collapsed": true
   },
   "outputs": [],
   "source": []
  },
  {
   "cell_type": "code",
   "execution_count": 5,
   "metadata": {
    "collapsed": true
   },
   "outputs": [],
   "source": [
    "def train_nn(sess, epochs, batch_size, get_batches_fn, train_op, cross_entropy_loss, input_image,\n",
    "             correct_label, keep_prob, learning_rate):\n",
    "    \"\"\"\n",
    "    Train neural network and print out the loss during training.\n",
    "    :param sess: TF Session\n",
    "    :param epochs: Number of epochs\n",
    "    :param batch_size: Batch size\n",
    "    :param get_batches_fn: Function to get batches of training data.  Call using get_batches_fn(batch_size)\n",
    "    :param train_op: TF Operation to train the neural network\n",
    "    :param cross_entropy_loss: TF Tensor for the amount of loss\n",
    "    :param input_image: TF Placeholder for input images\n",
    "    :param correct_label: TF Placeholder for label images\n",
    "    :param keep_prob: TF Placeholder for dropout keep probability\n",
    "    :param learning_rate: TF Placeholder for learning rate\n",
    "    \"\"\"\n",
    "    # TODO: Implement function\n",
    "    \n",
    "    idx = 0\n",
    "    for epoch in range(epochs):\n",
    "        for image, gt_image in get_batches_fn(batch_size):\n",
    "            idx += 1\n",
    "            _, loss = sess.run([train_op, cross_entropy_loss], \n",
    "                                     feed_dict = {input_image: image, correct_label: gt_image, \n",
    "                                                  keep_prob: 0.80, learning_rate: 0.00005})\n",
    "            print(idx)\n",
    "            if idx % 2 == 0: \n",
    "                print(\"Epoch {}/{}...\".format(epoch, epochs),\n",
    "                      \"Training Loss: {:.4f}...\".format(loss))\n",
    "\n",
    "tests.test_train_nn(train_nn)"
   ]
  },
  {
   "cell_type": "code",
   "execution_count": null,
   "metadata": {
    "collapsed": true
   },
   "outputs": [],
   "source": []
  },
  {
   "cell_type": "code",
   "execution_count": 6,
   "metadata": {
    "collapsed": true
   },
   "outputs": [],
   "source": [
    "def run():\n",
    "    \n",
    "    \n",
    "    num_classes = 2\n",
    "    image_shape = (160, 576)\n",
    "    data_dir = './data'\n",
    "    runs_dir = './runs'\n",
    "    tests.test_for_kitti_dataset(data_dir)\n",
    "\n",
    "    # Download pretrained vgg model\n",
    "    \n",
    "    #Already downloaded\n",
    "    #helper.maybe_download_pretrained_vgg(data_dir)\n",
    "\n",
    "    # OPTIONAL: Train and Inference on the cityscapes dataset instead of the Kitti dataset.\n",
    "    # You'll need a GPU with at least 10 teraFLOPS to train on.\n",
    "    #  https://www.cityscapes-dataset.com/\n",
    "    \n",
    "    epochs = 5 \n",
    "    batch_size = 2\n",
    "\n",
    "    with tf.Session() as sess:\n",
    "        \n",
    "        # Path to vgg model\n",
    "        vgg_path = os.path.join(data_dir, 'vgg')\n",
    "        print (vgg_path)\n",
    "        # Create function to get batches\n",
    "        get_batches_fn = helper.gen_batch_function(os.path.join(data_dir, 'data_road/training'), image_shape)\n",
    "\n",
    "        # OPTIONAL: Augment Images for better results\n",
    "        #  https://datascience.stackexchange.com/questions/5224/how-to-prepare-augment-images-for-neural-network\n",
    "\n",
    "        # TODO: Build NN using load_vgg, layers, and optimize function\n",
    "        image_input, keep_prob, layer3_out, layer4_out, layer7_out = load_vgg(sess, vgg_path)\n",
    "        \n",
    "        output_layer = layers(layer3_out, layer4_out, layer7_out, num_classes)\n",
    "        \n",
    "        learning_rate = tf.placeholder(dtype = tf.float32)\n",
    "        correct_label = tf.placeholder(dtype = tf.float32, shape = (None, None, None, num_classes)) \n",
    "        \n",
    "        reshaped_logits, train_op, cross_entropy_loss = optimize(output_layer, \n",
    "                                                                 correct_label, learning_rate, num_classes)\n",
    "\n",
    "        # TODO: Train NN using the train_nn function\n",
    "        sess.run(tf.global_variables_initializer())\n",
    "        train_nn(sess, epochs, batch_size, get_batches_fn, train_op, cross_entropy_loss, \n",
    "                 image_input, correct_label, keep_prob, learning_rate )\n",
    "        \n",
    "        helper.save_inference_samples(runs_dir, data_dir, sess, image_shape,\n",
    "                                      reshaped_logits, keep_prob, image_input)\n",
    "\n",
    "        # TODO: Save inference data using helper.save_inference_samples\n",
    "        #  helper.save_inference_samples(runs_dir, data_dir, sess, image_shape, logits, keep_prob, input_image)\n",
    "\n",
    "        # OPTIONAL: Apply the trained model to a video"
   ]
  },
  {
   "cell_type": "code",
   "execution_count": null,
   "metadata": {
    "collapsed": false
   },
   "outputs": [],
   "source": [
    "if __name__ == '__main__':\n",
    "    \n",
    "    run()"
   ]
  },
  {
   "cell_type": "code",
   "execution_count": null,
   "metadata": {
    "collapsed": true
   },
   "outputs": [],
   "source": []
  }
 ],
 "metadata": {
  "anaconda-cloud": {},
  "kernelspec": {
   "display_name": "Python [conda env:tensorflow]",
   "language": "python",
   "name": "conda-env-tensorflow-py"
  },
  "language_info": {
   "codemirror_mode": {
    "name": "ipython",
    "version": 3
   },
   "file_extension": ".py",
   "mimetype": "text/x-python",
   "name": "python",
   "nbconvert_exporter": "python",
   "pygments_lexer": "ipython3",
   "version": "3.5.2"
  }
 },
 "nbformat": 4,
 "nbformat_minor": 2
}
