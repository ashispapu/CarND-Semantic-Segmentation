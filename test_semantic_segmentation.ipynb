{
 "cells": [
  {
   "cell_type": "code",
   "execution_count": 1,
   "metadata": {
    "collapsed": false,
    "deletable": true,
    "editable": true
   },
   "outputs": [],
   "source": [
    "import re\n",
    "import random\n",
    "import numpy as np\n",
    "import os.path\n",
    "import scipy.misc\n",
    "import shutil\n",
    "import zipfile\n",
    "import time\n",
    "import tensorflow as tf\n",
    "from glob import glob\n",
    "#from urllib.request import urlretrieve\n",
    "from tqdm import tqdm\n",
    "\n",
    "import helper\n",
    "#import project_tests as tests"
   ]
  },
  {
   "cell_type": "code",
   "execution_count": 2,
   "metadata": {
    "collapsed": false,
    "deletable": true,
    "editable": true
   },
   "outputs": [
    {
     "data": {
      "text/plain": [
       "sys.version_info(major=2, minor=7, micro=6, releaselevel='final', serial=0)"
      ]
     },
     "execution_count": 2,
     "metadata": {},
     "output_type": "execute_result"
    }
   ],
   "source": [
    "import sys\n",
    "sys.version_info"
   ]
  },
  {
   "cell_type": "code",
   "execution_count": 3,
   "metadata": {
    "collapsed": false,
    "deletable": true,
    "editable": true
   },
   "outputs": [
    {
     "data": {
      "text/plain": [
       "'1.0.1'"
      ]
     },
     "execution_count": 3,
     "metadata": {},
     "output_type": "execute_result"
    }
   ],
   "source": [
    "tf.saved_model.loader.load\n",
    "tf.__version__"
   ]
  },
  {
   "cell_type": "code",
   "execution_count": 4,
   "metadata": {
    "collapsed": false,
    "deletable": true,
    "editable": true
   },
   "outputs": [],
   "source": [
    "def load_vgg(sess, vgg_path):\n",
    "    \n",
    "    \"\"\"\n",
    "    Load Pretrained VGG Model into TensorFlow.\n",
    "    :param sess: TensorFlow Session\n",
    "    :param vgg_path: Path to vgg folder, containing \"variables/\" and \"saved_model.pb\"\n",
    "    :return: Tuple of Tensors from VGG model (image_input, keep_prob, layer3_out, layer4_out, layer7_out)\n",
    "    \"\"\"\n",
    "    # TODO: Implement function\n",
    "    \n",
    "    #   Use tf.saved_model.loader.load to load the model and weights\n",
    "    vgg_tag = 'vgg16'\n",
    "    vgg_input_tensor_name = 'image_input:0'\n",
    "    vgg_keep_prob_tensor_name = 'keep_prob:0'\n",
    "    vgg_layer3_out_tensor_name = 'layer3_out:0'\n",
    "    vgg_layer4_out_tensor_name = 'layer4_out:0'\n",
    "    vgg_layer7_out_tensor_name = 'layer7_out:0'\n",
    "    \n",
    "    buff = tf.saved_model.loader.load(sess, [vgg_tag], vgg_path)\n",
    "    \n",
    "    image_input = tf.get_default_graph().get_tensor_by_name(vgg_input_tensor_name)\n",
    "    print ('=== image_input ', image_input.shape)\n",
    "    print ('=== image_input ', image_input.get_shape)\n",
    "    \n",
    "    keep_prob = tf.get_default_graph().get_tensor_by_name(vgg_keep_prob_tensor_name)\n",
    "    print ('=== keep_prob ', keep_prob.get_shape)\n",
    "    \n",
    "    layer3_out = tf.get_default_graph().get_tensor_by_name(vgg_layer3_out_tensor_name)\n",
    "    print ('=== layer3_out ', layer3_out.get_shape)\n",
    "    \n",
    "    layer4_out = tf.get_default_graph().get_tensor_by_name(vgg_layer4_out_tensor_name)\n",
    "    print ('=== layer4_out ', layer4_out.get_shape)\n",
    "    \n",
    "    layer7_out = tf.get_default_graph().get_tensor_by_name(vgg_layer7_out_tensor_name)\n",
    "    print ('=== layer7_out ', layer7_out.get_shape)\n",
    "    \n",
    "    \n",
    "    \n",
    "    \n",
    "    return image_input, keep_prob, layer3_out, layer4_out, layer7_out\n"
   ]
  },
  {
   "cell_type": "code",
   "execution_count": null,
   "metadata": {
    "collapsed": true,
    "deletable": true,
    "editable": true
   },
   "outputs": [],
   "source": []
  },
  {
   "cell_type": "code",
   "execution_count": 5,
   "metadata": {
    "collapsed": false,
    "deletable": true,
    "editable": true
   },
   "outputs": [],
   "source": [
    "def layers(vgg_layer3_out, vgg_layer4_out, vgg_layer7_out, num_classes):\n",
    "    \"\"\"\n",
    "    Create the layers for a fully convolutional network.  Build skip-layers using the vgg layers.\n",
    "    :param vgg_layer7_out: TF Tensor for VGG Layer 3 output\n",
    "    :param vgg_layer4_out: TF Tensor for VGG Layer 4 output\n",
    "    :param vgg_layer3_out: TF Tensor for VGG Layer 7 output\n",
    "    :param num_classes: Number of classes to classify\n",
    "    :return: The Tensor for the last layer of output\n",
    "    \"\"\"\n",
    "    # TODO: Implement function\n",
    "    \n",
    "    # 1x1 with 7\n",
    "    layer7 = tf.layers.conv2d(vgg_layer7_out, num_classes, 1, padding='SAME', \n",
    "                              kernel_initializer=tf.truncated_normal_initializer(stddev = 0.01))\n",
    "    #print ('Layers layer7 ' , layer7.shape)\n",
    "    print ('Layers layer7 ' , layer7.get_shape)\n",
    "    \n",
    "    # 1x1 with 4\n",
    "    layer4 = tf.layers.conv2d(vgg_layer4_out, num_classes, 1, padding='SAME',\n",
    "                             kernel_initializer=tf.truncated_normal_initializer(stddev = 0.01))\n",
    "    \n",
    "    #print ('Layers layer4 ' , layer4.shape) \n",
    "    print ('Layers layer4 ' , layer4.get_shape)\n",
    "    \n",
    "    # 1x1 with 3\n",
    "    layer3 = tf.layers.conv2d(vgg_layer3_out, num_classes, 1, padding='SAME',\n",
    "                             kernel_initializer=tf.truncated_normal_initializer(stddev = 0.01))\n",
    "    \n",
    "    #print ('Layers layer3 ' , layer3.shape) \n",
    "    print ('Layers layer3 ' , layer3.get_shape)\n",
    "    \n",
    "    # Upsample 7 -- Transposed Convolution on layer7\n",
    "    upsample7 = tf.layers.conv2d_transpose(layer7, num_classes, 4, 2, 'SAME',\n",
    "                                          kernel_initializer=tf.truncated_normal_initializer(stddev = 0.01))\n",
    "    \n",
    "    #print ('Layers upsample7 ' , upsample7.shape) \n",
    "    print ('Layers upsample7 ' , upsample7.get_shape)\n",
    "    \n",
    "    # Skip-connection with 4 and upsample7\n",
    "    comb_layer1 = tf.add(layer4, upsample7)\n",
    "    #print ('Layers comb_layer1 ' , comb_layer1.shape) \n",
    "    print ('Layers comb_layer1 ' , comb_layer1.get_shape)\n",
    "    \n",
    "    # Upsample combined layer 4+7  -- Transposed Convolution on comb_layer1\n",
    "    upsample4_7 = tf.layers.conv2d_transpose(comb_layer1, num_classes, 4, 2, 'SAME',\n",
    "                                            kernel_initializer=tf.truncated_normal_initializer(stddev = 0.01))\n",
    "    \n",
    "    #print ('Layers upsample4_7 ' , upsample4_7.shape)\n",
    "    print ('Layers upsample4_7 ' , upsample4_7.get_shape)\n",
    "    \n",
    "    # Skip-connection with 3 and upsample4_7\n",
    "    comb_layer2 = tf.add(layer3, upsample4_7)\n",
    "    #print ('Layers comb_layer2 ' , comb_layer2.shape)\n",
    "    print ('Layers comb_layer2 ' , comb_layer2.get_shape)\n",
    "    \n",
    "    # Upsample to original image  -- Transposed Convolution on comb_layer2\n",
    "    upsample3_4_7 = tf.layers.conv2d_transpose(comb_layer2, num_classes, 16, 8, 'SAME',\n",
    "                                              kernel_initializer=tf.truncated_normal_initializer(stddev = 0.01))\n",
    "    \n",
    "    #print ('Layers upsample3_4_7 ' , upsample3_4_7.shape) \n",
    "    print ('Layers upsample3_4_7 ' , upsample3_4_7.get_shape)\n",
    "        \n",
    "    return upsample3_4_7\n",
    "\n",
    "#tests.test_layers(layers)"
   ]
  },
  {
   "cell_type": "code",
   "execution_count": null,
   "metadata": {
    "collapsed": true,
    "deletable": true,
    "editable": true
   },
   "outputs": [],
   "source": []
  },
  {
   "cell_type": "code",
   "execution_count": 6,
   "metadata": {
    "collapsed": false,
    "deletable": true,
    "editable": true
   },
   "outputs": [],
   "source": [
    "def optimize(nn_last_layer, correct_label, learning_rate, num_classes):\n",
    "    \"\"\"\n",
    "    Build the TensorFLow loss and optimizer operations.\n",
    "    :param nn_last_layer: TF Tensor of the last layer in the neural network\n",
    "    :param correct_label: TF Placeholder for the correct label image\n",
    "    :param learning_rate: TF Placeholder for the learning rate\n",
    "    :param num_classes: Number of classes to classify\n",
    "    :return: Tuple of (logits, train_op, cross_entropy_loss)\n",
    "    \"\"\"\n",
    "    # TODO: Implement function\n",
    "    \n",
    "    reshaped_logits = tf.reshape(nn_last_layer, (-1, num_classes))\n",
    "    print ('Layers reshaped_logits ' , reshaped_logits.get_shape)\n",
    "    \n",
    "    reshaped_labels = tf.reshape(correct_label, (-1, num_classes))\n",
    "    print ('Layers correct_label  ' , correct_label.get_shape)\n",
    "    print ('Layers reshaped_labels ' , reshaped_labels.get_shape)\n",
    "    \n",
    "    cross_entropy_loss = tf.reduce_mean(tf.nn.softmax_cross_entropy_with_logits(logits = reshaped_logits, \n",
    "                                                                                labels = reshaped_labels))\n",
    "    \n",
    "    train_op = tf.train.AdamOptimizer(learning_rate).minimize(cross_entropy_loss)\n",
    "    \n",
    "    return reshaped_logits, train_op, cross_entropy_loss\n",
    "    \n",
    "#tests.test_optimize(optimize)"
   ]
  },
  {
   "cell_type": "code",
   "execution_count": null,
   "metadata": {
    "collapsed": true,
    "deletable": true,
    "editable": true
   },
   "outputs": [],
   "source": []
  },
  {
   "cell_type": "code",
   "execution_count": 7,
   "metadata": {
    "collapsed": true,
    "deletable": true,
    "editable": true
   },
   "outputs": [],
   "source": [
    "def train_nn(sess, epochs, batch_size, get_batches_fn, train_op, cross_entropy_loss, input_image,\n",
    "             correct_label, keep_prob, learning_rate):\n",
    "    \"\"\"\n",
    "    Train neural network and print out the loss during training.\n",
    "    :param sess: TF Session\n",
    "    :param epochs: Number of epochs\n",
    "    :param batch_size: Batch size\n",
    "    :param get_batches_fn: Function to get batches of training data.  Call using get_batches_fn(batch_size)\n",
    "    :param train_op: TF Operation to train the neural network\n",
    "    :param cross_entropy_loss: TF Tensor for the amount of loss\n",
    "    :param input_image: TF Placeholder for input images\n",
    "    :param correct_label: TF Placeholder for label images\n",
    "    :param keep_prob: TF Placeholder for dropout keep probability\n",
    "    :param learning_rate: TF Placeholder for learning rate\n",
    "    \"\"\"\n",
    "    # TODO: Implement function\n",
    "    \n",
    "    idx = 0\n",
    "    for epoch in range(epochs):\n",
    "        for image, gt_image in get_batches_fn(batch_size):\n",
    "            idx += 1\n",
    "            _, loss = sess.run([train_op, cross_entropy_loss], \n",
    "                                     feed_dict = {input_image: image, correct_label: gt_image, \n",
    "                                                  keep_prob: 0.5, learning_rate: 0.001})\n",
    "            #print(idx)\n",
    "            if idx % 8 == 0: \n",
    "                print(\"Epoch {}/{}...\".format(epoch, epochs),\n",
    "                      \"Training Loss: {:.4f}...\".format(loss))\n",
    "\n",
    "#tests.test_train_nn(train_nn)"
   ]
  },
  {
   "cell_type": "code",
   "execution_count": null,
   "metadata": {
    "collapsed": true,
    "deletable": true,
    "editable": true
   },
   "outputs": [],
   "source": []
  },
  {
   "cell_type": "code",
   "execution_count": 8,
   "metadata": {
    "collapsed": true,
    "deletable": true,
    "editable": true
   },
   "outputs": [],
   "source": [
    "def run():\n",
    "    \n",
    "    \n",
    "    num_classes = 2\n",
    "    image_shape = (160, 576)\n",
    "    data_dir = './data'\n",
    "    runs_dir = './runs'\n",
    "    #tests.test_for_kitti_dataset(data_dir)\n",
    "\n",
    "    # Download pretrained vgg model\n",
    "    \n",
    "    #Already downloaded\n",
    "    #helper.maybe_download_pretrained_vgg(data_dir)\n",
    "\n",
    "    # OPTIONAL: Train and Inference on the cityscapes dataset instead of the Kitti dataset.\n",
    "    # You'll need a GPU with at least 10 teraFLOPS to train on.\n",
    "    #  https://www.cityscapes-dataset.com/\n",
    "    \n",
    "    epochs = 50 \n",
    "    batch_size = 16\n",
    "\n",
    "    with tf.Session() as sess:\n",
    "        \n",
    "        # Path to vgg model\n",
    "        vgg_path = os.path.join(data_dir, 'vgg')\n",
    "        print (vgg_path)\n",
    "        # Create function to get batches\n",
    "        get_batches_fn = helper.gen_batch_function(os.path.join(data_dir, 'data_road/training'), image_shape)\n",
    "\n",
    "        # OPTIONAL: Augment Images for better results\n",
    "        #  https://datascience.stackexchange.com/questions/5224/how-to-prepare-augment-images-for-neural-network\n",
    "\n",
    "        # TODO: Build NN using load_vgg, layers, and optimize function\n",
    "        image_input, keep_prob, layer3_out, layer4_out, layer7_out = load_vgg(sess, vgg_path)\n",
    "        \n",
    "        output_layer = layers(layer3_out, layer4_out, layer7_out, num_classes)\n",
    "        \n",
    "        learning_rate = tf.placeholder(dtype = tf.float32)\n",
    "        correct_label = tf.placeholder(dtype = tf.float32, shape = (None, None, None, num_classes)) \n",
    "        \n",
    "        reshaped_logits, train_op, cross_entropy_loss = optimize(output_layer, \n",
    "                                                                 correct_label, learning_rate, num_classes)\n",
    "\n",
    "        # TODO: Train NN using the train_nn function\n",
    "        sess.run(tf.global_variables_initializer())\n",
    "        train_nn(sess, epochs, batch_size, get_batches_fn, train_op, cross_entropy_loss, \n",
    "                 image_input, correct_label, keep_prob, learning_rate )\n",
    "        \n",
    "        # TODO: Save inference data using helper.save_inference_samples\n",
    "        \n",
    "        helper.save_inference_samples(runs_dir, data_dir, sess, image_shape,reshaped_logits, keep_prob, image_input)\n",
    "        \n",
    "        # Save model weights to disk\n",
    "        saver = tf.train.Saver()\n",
    "        saver.save(sess, 'vgg_segment-model')\n",
    "        print(\"Model saved in disk \")\n",
    "\n",
    "\n",
    "        # OPTIONAL: Apply the trained model to a video"
   ]
  },
  {
   "cell_type": "code",
   "execution_count": 9,
   "metadata": {
    "collapsed": false,
    "deletable": true,
    "editable": true,
    "scrolled": true
   },
   "outputs": [
    {
     "name": "stdout",
     "output_type": "stream",
     "text": [
      "./data/vgg\n",
      "('=== image_input ', TensorShape([Dimension(None), Dimension(None), Dimension(None), Dimension(3)]))\n",
      "('=== image_input ', <bound method Tensor.get_shape of <tf.Tensor 'image_input:0' shape=(?, ?, ?, 3) dtype=float32>>)\n",
      "('=== keep_prob ', <bound method Tensor.get_shape of <tf.Tensor 'keep_prob:0' shape=<unknown> dtype=float32>>)\n",
      "('=== layer3_out ', <bound method Tensor.get_shape of <tf.Tensor 'layer3_out:0' shape=(?, ?, ?, 256) dtype=float32>>)\n",
      "('=== layer4_out ', <bound method Tensor.get_shape of <tf.Tensor 'layer4_out:0' shape=(?, ?, ?, 512) dtype=float32>>)\n",
      "('=== layer7_out ', <bound method Tensor.get_shape of <tf.Tensor 'layer7_out:0' shape=(?, ?, ?, 4096) dtype=float32>>)\n",
      "('Layers layer7 ', <bound method Tensor.get_shape of <tf.Tensor 'conv2d/BiasAdd:0' shape=(?, ?, ?, 2) dtype=float32>>)\n",
      "('Layers layer4 ', <bound method Tensor.get_shape of <tf.Tensor 'conv2d_2/BiasAdd:0' shape=(?, ?, ?, 2) dtype=float32>>)\n",
      "('Layers layer3 ', <bound method Tensor.get_shape of <tf.Tensor 'conv2d_3/BiasAdd:0' shape=(?, ?, ?, 2) dtype=float32>>)\n",
      "('Layers upsample7 ', <bound method Tensor.get_shape of <tf.Tensor 'conv2d_transpose/BiasAdd:0' shape=(?, ?, ?, 2) dtype=float32>>)\n",
      "('Layers comb_layer1 ', <bound method Tensor.get_shape of <tf.Tensor 'Add:0' shape=(?, ?, ?, 2) dtype=float32>>)\n",
      "('Layers upsample4_7 ', <bound method Tensor.get_shape of <tf.Tensor 'conv2d_transpose_2/BiasAdd:0' shape=(?, ?, ?, 2) dtype=float32>>)\n",
      "('Layers comb_layer2 ', <bound method Tensor.get_shape of <tf.Tensor 'Add_1:0' shape=(?, ?, ?, 2) dtype=float32>>)\n",
      "('Layers upsample3_4_7 ', <bound method Tensor.get_shape of <tf.Tensor 'conv2d_transpose_3/BiasAdd:0' shape=(?, ?, ?, 2) dtype=float32>>)\n",
      "('Layers reshaped_logits ', <bound method Tensor.get_shape of <tf.Tensor 'Reshape:0' shape=(?, 2) dtype=float32>>)\n",
      "('Layers correct_label  ', <bound method Tensor.get_shape of <tf.Tensor 'Placeholder_1:0' shape=(?, ?, ?, 2) dtype=float32>>)\n",
      "('Layers reshaped_labels ', <bound method Tensor.get_shape of <tf.Tensor 'Reshape_1:0' shape=(?, 2) dtype=float32>>)\n",
      "('Epoch 0/50...', 'Training Loss: 0.6872...')\n",
      "('Epoch 0/50...', 'Training Loss: 0.5184...')\n",
      "('Epoch 1/50...', 'Training Loss: 0.4712...')\n",
      "('Epoch 1/50...', 'Training Loss: 0.3251...')\n",
      "('Epoch 2/50...', 'Training Loss: 0.2595...')\n",
      "('Epoch 2/50...', 'Training Loss: 0.2512...')\n",
      "('Epoch 2/50...', 'Training Loss: 0.2028...')\n",
      "('Epoch 3/50...', 'Training Loss: 0.2398...')\n",
      "('Epoch 3/50...', 'Training Loss: 0.2162...')\n",
      "('Epoch 4/50...', 'Training Loss: 0.1653...')\n",
      "('Epoch 4/50...', 'Training Loss: 0.1721...')\n",
      "('Epoch 5/50...', 'Training Loss: 0.1569...')\n",
      "('Epoch 5/50...', 'Training Loss: 0.1272...')\n",
      "('Epoch 5/50...', 'Training Loss: 0.1615...')\n",
      "('Epoch 6/50...', 'Training Loss: 0.1554...')\n",
      "('Epoch 6/50...', 'Training Loss: 0.1287...')\n",
      "('Epoch 7/50...', 'Training Loss: 0.1284...')\n",
      "('Epoch 7/50...', 'Training Loss: 0.1344...')\n",
      "('Epoch 7/50...', 'Training Loss: 0.1582...')\n",
      "('Epoch 8/50...', 'Training Loss: 0.1598...')\n",
      "('Epoch 8/50...', 'Training Loss: 0.1379...')\n",
      "('Epoch 9/50...', 'Training Loss: 0.1305...')\n",
      "('Epoch 9/50...', 'Training Loss: 0.1416...')\n",
      "('Epoch 10/50...', 'Training Loss: 0.1367...')\n",
      "('Epoch 10/50...', 'Training Loss: 0.1127...')\n",
      "('Epoch 10/50...', 'Training Loss: 0.1129...')\n",
      "('Epoch 11/50...', 'Training Loss: 0.1318...')\n",
      "('Epoch 11/50...', 'Training Loss: 0.1159...')\n",
      "('Epoch 12/50...', 'Training Loss: 0.1266...')\n",
      "('Epoch 12/50...', 'Training Loss: 0.1117...')\n",
      "('Epoch 13/50...', 'Training Loss: 0.1209...')\n",
      "('Epoch 13/50...', 'Training Loss: 0.0987...')\n",
      "('Epoch 13/50...', 'Training Loss: 0.1156...')\n",
      "('Epoch 14/50...', 'Training Loss: 0.1235...')\n",
      "('Epoch 14/50...', 'Training Loss: 0.0963...')\n",
      "('Epoch 15/50...', 'Training Loss: 0.0743...')\n",
      "('Epoch 15/50...', 'Training Loss: 0.1008...')\n",
      "('Epoch 15/50...', 'Training Loss: 0.0639...')\n",
      "('Epoch 16/50...', 'Training Loss: 0.0981...')\n",
      "('Epoch 16/50...', 'Training Loss: 0.0947...')\n",
      "('Epoch 17/50...', 'Training Loss: 0.0690...')\n",
      "('Epoch 17/50...', 'Training Loss: 0.0930...')\n",
      "('Epoch 18/50...', 'Training Loss: 0.0686...')\n",
      "('Epoch 18/50...', 'Training Loss: 0.0868...')\n",
      "('Epoch 18/50...', 'Training Loss: 0.0699...')\n",
      "('Epoch 19/50...', 'Training Loss: 0.0802...')\n",
      "('Epoch 19/50...', 'Training Loss: 0.0947...')\n",
      "('Epoch 20/50...', 'Training Loss: 0.0677...')\n",
      "('Epoch 20/50...', 'Training Loss: 0.0807...')\n",
      "('Epoch 21/50...', 'Training Loss: 0.0693...')\n",
      "('Epoch 21/50...', 'Training Loss: 0.0634...')\n",
      "('Epoch 21/50...', 'Training Loss: 0.0703...')\n",
      "('Epoch 22/50...', 'Training Loss: 0.0773...')\n",
      "('Epoch 22/50...', 'Training Loss: 0.0661...')\n",
      "('Epoch 23/50...', 'Training Loss: 0.0653...')\n",
      "('Epoch 23/50...', 'Training Loss: 0.0550...')\n",
      "('Epoch 23/50...', 'Training Loss: 0.0634...')\n",
      "('Epoch 24/50...', 'Training Loss: 0.0826...')\n",
      "('Epoch 24/50...', 'Training Loss: 0.0675...')\n",
      "('Epoch 25/50...', 'Training Loss: 0.0701...')\n",
      "('Epoch 25/50...', 'Training Loss: 0.0684...')\n",
      "('Epoch 26/50...', 'Training Loss: 0.0558...')\n",
      "('Epoch 26/50...', 'Training Loss: 0.0430...')\n",
      "('Epoch 26/50...', 'Training Loss: 0.0584...')\n",
      "('Epoch 27/50...', 'Training Loss: 0.0560...')\n",
      "('Epoch 27/50...', 'Training Loss: 0.0602...')\n",
      "('Epoch 28/50...', 'Training Loss: 0.0583...')\n",
      "('Epoch 28/50...', 'Training Loss: 0.0500...')\n",
      "('Epoch 29/50...', 'Training Loss: 0.0537...')\n",
      "('Epoch 29/50...', 'Training Loss: 0.0463...')\n",
      "('Epoch 29/50...', 'Training Loss: 0.0482...')\n",
      "('Epoch 30/50...', 'Training Loss: 0.0526...')\n",
      "('Epoch 30/50...', 'Training Loss: 0.0709...')\n",
      "('Epoch 31/50...', 'Training Loss: 0.0385...')\n",
      "('Epoch 31/50...', 'Training Loss: 0.0347...')\n",
      "('Epoch 31/50...', 'Training Loss: 0.0474...')\n",
      "('Epoch 32/50...', 'Training Loss: 0.0461...')\n",
      "('Epoch 32/50...', 'Training Loss: 0.0440...')\n",
      "('Epoch 33/50...', 'Training Loss: 0.0435...')\n",
      "('Epoch 33/50...', 'Training Loss: 0.0523...')\n",
      "('Epoch 34/50...', 'Training Loss: 0.0541...')\n",
      "('Epoch 34/50...', 'Training Loss: 0.0416...')\n",
      "('Epoch 34/50...', 'Training Loss: 0.0314...')\n",
      "('Epoch 35/50...', 'Training Loss: 0.0386...')\n",
      "('Epoch 35/50...', 'Training Loss: 0.0475...')\n",
      "('Epoch 36/50...', 'Training Loss: 0.0427...')\n",
      "('Epoch 36/50...', 'Training Loss: 0.0368...')\n",
      "('Epoch 37/50...', 'Training Loss: 0.0356...')\n",
      "('Epoch 37/50...', 'Training Loss: 0.0445...')\n",
      "('Epoch 37/50...', 'Training Loss: 0.0306...')\n",
      "('Epoch 38/50...', 'Training Loss: 0.0366...')\n",
      "('Epoch 38/50...', 'Training Loss: 0.0402...')\n",
      "('Epoch 39/50...', 'Training Loss: 0.0321...')\n",
      "('Epoch 39/50...', 'Training Loss: 0.0394...')\n",
      "('Epoch 39/50...', 'Training Loss: 0.0220...')\n",
      "('Epoch 40/50...', 'Training Loss: 0.0355...')\n",
      "('Epoch 40/50...', 'Training Loss: 0.0312...')\n",
      "('Epoch 41/50...', 'Training Loss: 0.0404...')\n",
      "('Epoch 41/50...', 'Training Loss: 0.0453...')\n",
      "('Epoch 42/50...', 'Training Loss: 0.0415...')\n",
      "('Epoch 42/50...', 'Training Loss: 0.0384...')\n",
      "('Epoch 42/50...', 'Training Loss: 0.0357...')\n",
      "('Epoch 43/50...', 'Training Loss: 0.0304...')\n",
      "('Epoch 43/50...', 'Training Loss: 0.0262...')\n",
      "('Epoch 44/50...', 'Training Loss: 0.0358...')\n",
      "('Epoch 44/50...', 'Training Loss: 0.0306...')\n",
      "('Epoch 45/50...', 'Training Loss: 0.0228...')\n",
      "('Epoch 45/50...', 'Training Loss: 0.0450...')\n",
      "('Epoch 45/50...', 'Training Loss: 0.0427...')\n",
      "('Epoch 46/50...', 'Training Loss: 0.0479...')\n",
      "('Epoch 46/50...', 'Training Loss: 0.0829...')\n",
      "('Epoch 47/50...', 'Training Loss: 0.0742...')\n",
      "('Epoch 47/50...', 'Training Loss: 0.0776...')\n",
      "('Epoch 47/50...', 'Training Loss: 0.0382...')\n",
      "('Epoch 48/50...', 'Training Loss: 0.0532...')\n",
      "('Epoch 48/50...', 'Training Loss: 0.0435...')\n",
      "('Epoch 49/50...', 'Training Loss: 0.0403...')\n",
      "('Epoch 49/50...', 'Training Loss: 0.0533...')\n",
      "Training Finished. Saving test images to: ./runs/1503647083.82\n",
      "Model saved in disk \n"
     ]
    }
   ],
   "source": [
    "if __name__ == '__main__':\n",
    "    \n",
    "    run()"
   ]
  },
  {
   "cell_type": "code",
   "execution_count": null,
   "metadata": {
    "collapsed": true,
    "deletable": true,
    "editable": true
   },
   "outputs": [],
   "source": []
  },
  {
   "cell_type": "code",
   "execution_count": null,
   "metadata": {
    "collapsed": true,
    "deletable": true,
    "editable": true
   },
   "outputs": [],
   "source": []
  },
  {
   "cell_type": "code",
   "execution_count": null,
   "metadata": {
    "collapsed": true,
    "deletable": true,
    "editable": true
   },
   "outputs": [],
   "source": []
  },
  {
   "cell_type": "code",
   "execution_count": null,
   "metadata": {
    "collapsed": true,
    "deletable": true,
    "editable": true
   },
   "outputs": [],
   "source": []
  },
  {
   "cell_type": "code",
   "execution_count": null,
   "metadata": {
    "collapsed": true,
    "deletable": true,
    "editable": true
   },
   "outputs": [],
   "source": []
  },
  {
   "cell_type": "code",
   "execution_count": null,
   "metadata": {
    "collapsed": false,
    "deletable": true,
    "editable": true
   },
   "outputs": [],
   "source": []
  },
  {
   "cell_type": "code",
   "execution_count": null,
   "metadata": {
    "collapsed": false,
    "deletable": true,
    "editable": true
   },
   "outputs": [],
   "source": [
    "import sys\n",
    "import numpy as np\n",
    "import glob\n",
    "import os\n",
    "import scipy\n",
    "import matplotlib.image as img\n",
    "import cv2\n",
    "sys.version\n",
    "sys.version_info"
   ]
  },
  {
   "cell_type": "code",
   "execution_count": null,
   "metadata": {
    "collapsed": false,
    "deletable": true,
    "editable": true
   },
   "outputs": [],
   "source": [
    "background_color = np.array([255, 0, 0])\n",
    "background_color.shape"
   ]
  },
  {
   "cell_type": "code",
   "execution_count": null,
   "metadata": {
    "collapsed": false,
    "deletable": true,
    "editable": true
   },
   "outputs": [],
   "source": [
    "image_paths = glob(os.path.join(data_folder, 'image_2', '*.png'))\n",
    "\n",
    "/home/tebd/Ashis_Samal/CarND-Semantic-Segmentation/data/data_road/training/image_2/\n",
    "mpl."
   ]
  },
  {
   "cell_type": "code",
   "execution_count": null,
   "metadata": {
    "collapsed": false,
    "deletable": true,
    "editable": true
   },
   "outputs": [],
   "source": []
  },
  {
   "cell_type": "code",
   "execution_count": null,
   "metadata": {
    "collapsed": false,
    "deletable": true,
    "editable": true
   },
   "outputs": [],
   "source": [
    "gt_bg= np.random.rand(160,576)\n",
    "gt_bg.shape"
   ]
  },
  {
   "cell_type": "code",
   "execution_count": null,
   "metadata": {
    "collapsed": false,
    "deletable": true,
    "editable": true
   },
   "outputs": [],
   "source": [
    "bool_arr = np.array([[True, False],[False, True]])\n",
    "\n",
    "print (bool_arr)\n",
    "bool_arr"
   ]
  },
  {
   "cell_type": "code",
   "execution_count": null,
   "metadata": {
    "collapsed": false,
    "deletable": true,
    "editable": true
   },
   "outputs": [],
   "source": [
    "inv_bool_arr = np.invert(bool_arr)\n",
    "inv_bool_arr"
   ]
  },
  {
   "cell_type": "code",
   "execution_count": null,
   "metadata": {
    "collapsed": false,
    "deletable": true,
    "editable": true
   },
   "outputs": [],
   "source": [
    "bool_arr.shape"
   ]
  },
  {
   "cell_type": "code",
   "execution_count": null,
   "metadata": {
    "collapsed": false,
    "deletable": true,
    "editable": true
   },
   "outputs": [],
   "source": [
    "bool_arr = np.reshape(bool_arr,(2,2,1))"
   ]
  },
  {
   "cell_type": "code",
   "execution_count": null,
   "metadata": {
    "collapsed": false,
    "deletable": true,
    "editable": true
   },
   "outputs": [],
   "source": [
    " np.concatenate((bool_arr,np.invert(bool_arr)), axis=2)"
   ]
  },
  {
   "cell_type": "code",
   "execution_count": null,
   "metadata": {
    "collapsed": false,
    "deletable": true,
    "editable": true
   },
   "outputs": [],
   "source": [
    "image_shape = (576, 160)\n",
    "image = cv2.resize(img.imread('/home/tebd/Ashis_Samal/CarND-Semantic-Segmentation/data/data_road/training/image_2/um_000000.png'), image_shape , interpolation = cv2.INTER_AREA)\n",
    "#image.shape\n",
    "gt_image = cv2.resize(img.imread('/home/tebd/Ashis_Samal/CarND-Semantic-Segmentation/data/data_road/training/gt_image_2/um_lane_000000.png'), image_shape , interpolation = cv2.INTER_AREA)\n",
    "print ('===== gt_image ', gt_image.shape)"
   ]
  },
  {
   "cell_type": "code",
   "execution_count": null,
   "metadata": {
    "collapsed": false,
    "deletable": true,
    "editable": true
   },
   "outputs": [],
   "source": [
    "gt_bg = np.all(gt_image == background_color, axis=2)\n",
    "gt_bg.shape"
   ]
  },
  {
   "cell_type": "code",
   "execution_count": null,
   "metadata": {
    "collapsed": false,
    "deletable": true,
    "editable": true
   },
   "outputs": [],
   "source": [
    "gt_bg"
   ]
  },
  {
   "cell_type": "code",
   "execution_count": null,
   "metadata": {
    "collapsed": false,
    "deletable": true,
    "editable": true
   },
   "outputs": [],
   "source": [
    "gt_bg = gt_bg.reshape((160, 576),1)"
   ]
  },
  {
   "cell_type": "code",
   "execution_count": null,
   "metadata": {
    "collapsed": false,
    "deletable": true,
    "editable": true
   },
   "outputs": [],
   "source": [
    "a = np.array([[1, 2], [3, 4]])\n",
    "b = np.array([[5, 6]])"
   ]
  },
  {
   "cell_type": "code",
   "execution_count": null,
   "metadata": {
    "collapsed": false,
    "deletable": true,
    "editable": true
   },
   "outputs": [],
   "source": [
    "a.shape"
   ]
  },
  {
   "cell_type": "code",
   "execution_count": null,
   "metadata": {
    "collapsed": false,
    "deletable": true,
    "editable": true
   },
   "outputs": [],
   "source": [
    "np.concatenate((a, b), axis=0)"
   ]
  },
  {
   "cell_type": "code",
   "execution_count": null,
   "metadata": {
    "collapsed": false,
    "deletable": true,
    "editable": true
   },
   "outputs": [],
   "source": [
    "#a.reshape(a.shape,1)\n",
    "np.reshape(a, 6) "
   ]
  },
  {
   "cell_type": "code",
   "execution_count": null,
   "metadata": {
    "collapsed": false,
    "deletable": true,
    "editable": true
   },
   "outputs": [],
   "source": [
    "gt_image = np.concatenate((gt_bg, np.invert(gt_bg)), axis=2)"
   ]
  }
 ],
 "metadata": {
  "anaconda-cloud": {},
  "kernelspec": {
   "display_name": "Python 2",
   "language": "python",
   "name": "python2"
  },
  "language_info": {
   "codemirror_mode": {
    "name": "ipython",
    "version": 2
   },
   "file_extension": ".py",
   "mimetype": "text/x-python",
   "name": "python",
   "nbconvert_exporter": "python",
   "pygments_lexer": "ipython2",
   "version": "2.7.6"
  }
 },
 "nbformat": 4,
 "nbformat_minor": 2
}
